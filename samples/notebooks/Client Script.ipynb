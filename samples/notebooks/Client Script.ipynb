{
 "metadata": {
  "name": "",
  "signature": "sha256:a952ef321e73186055e68c2d6e516558f87614ed45539b2efc030a0c88e1c121"
 },
 "nbformat": 3,
 "nbformat_minor": 0,
 "worksheets": [
  {
   "cells": [
    {
     "cell_type": "heading",
     "level": 1,
     "metadata": {},
     "source": [
      "Client Script"
     ]
    },
    {
     "cell_type": "markdown",
     "metadata": {},
     "source": [
      "The `%%html` and `%%script` commands enable generating HTML into the notebook, and programming against the DOM using client-side JavaScript.\n",
      "\n",
      "This example demonstrates generating an `<svg>` element and then using d3.js to add an SVG element."
     ]
    },
    {
     "cell_type": "code",
     "collapsed": false,
     "input": [
      "%%html\n",
      "<svg id=\"surface\" style=\"width: 100%; height: 100px\"></svg>"
     ],
     "language": "javascript",
     "metadata": {},
     "outputs": [
      {
       "html": [
        "<svg id=\"surface\" style=\"width: 100%; height: 100px\"></svg>"
       ],
       "metadata": {},
       "output_type": "display_data"
      }
     ],
     "prompt_number": 1
    },
    {
     "cell_type": "code",
     "collapsed": false,
     "input": [
      "%%script\n",
      "require(['d3'], function(d3) {\n",
      "  d3.select(\"#surface\")\n",
      "    .append(\"circle\")\n",
      "    .style(\"stroke\", \"black\")\n",
      "    .style(\"fill\", \"white\")\n",
      "    .attr(\"r\", 40)\n",
      "    .attr(\"cx\", 50)\n",
      "    .attr(\"cy\", 50)\n",
      "});"
     ],
     "language": "javascript",
     "metadata": {},
     "outputs": [
      {
       "javascript": [
        "require(['d3'], function(d3) {\n",
        "  d3.select(\"#surface\")\n",
        "    .append(\"circle\")\n",
        "    .style(\"stroke\", \"black\")\n",
        "    .style(\"fill\", \"white\")\n",
        "    .attr(\"r\", 40)\n",
        "    .attr(\"cx\", 50)\n",
        "    .attr(\"cy\", 50)\n",
        "});"
       ],
       "metadata": {},
       "output_type": "display_data"
      }
     ],
     "prompt_number": 2
    }
   ],
   "metadata": {}
  }
 ]
}