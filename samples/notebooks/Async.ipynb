{
 "metadata": {
  "name": "",
  "signature": "sha256:36e746ec7c3d9d5ca075f0ec02b6063729f3a5fcfa541593c5c18435190cf66c"
 },
 "nbformat": 3,
 "nbformat_minor": 0,
 "worksheets": [
  {
   "cells": [
    {
     "cell_type": "heading",
     "level": 1,
     "metadata": {},
     "source": [
      "Async"
     ]
    },
    {
     "cell_type": "markdown",
     "metadata": {},
     "source": [
      "This notebook introduces the support for working with async operations and async APIs in node.js.\n",
      "\n",
      "In a typical notebook, one cell completes execution before the next begins. This ensures simple things such as console output from code in a cell is associated with the cell, rather than some other arbitrary cell that is executing. More importantly it ensures that variables defined within one cell are declared and initialized before the next cell executes, where these variables might be referenced.\n",
      "\n",
      "Notebooks automatically reference the `ijs.runtime` node module which includes an `async` helper API that allows returning promises representing asynchronously returned results (or errors) when using async APIs such as making HTTP requests.\n",
      "\n",
      "In this notebook, a much simpler example is used. A timeout set 3 seconds into the future. Once the timeout is reached, some text is emitted into the notebook, and a result is produced."
     ]
    },
    {
     "cell_type": "heading",
     "level": 2,
     "metadata": {},
     "source": [
      "A Simple Example"
     ]
    },
    {
     "cell_type": "code",
     "collapsed": false,
     "input": [
      "_.async(function(deferred) {\n",
      "  setTimeout(function() { \n",
      "    console.log(\"hello!\"); \n",
      "\n",
      "    var result = 'done';\n",
      "    deferred.resolve(result);\n",
      "  }, 3000);\n",
      "});"
     ],
     "language": "javascript",
     "metadata": {},
     "outputs": [
      {
       "output_type": "stream",
       "stream": "stdout",
       "text": [
        "hello!\n"
       ]
      },
      {
       "metadata": {},
       "output_type": "display_data",
       "text": [
        "done"
       ]
      }
     ],
     "prompt_number": 1
    },
    {
     "cell_type": "heading",
     "level": 2,
     "metadata": {},
     "source": [
      "Deferred API"
     ]
    },
    {
     "cell_type": "markdown",
     "metadata": {},
     "source": [
      "The `async` helper method takes a function as an argument that it will invoke and pass in a deferred object. It returns the promise represented by this deferred object, which the notebook will monitor for completion of the function.\n",
      "\n",
      "This deferred object has two methods:\n",
      "\n",
      "- `resolve(result)`: call this on successful completion of the async work.\n",
      "\n",
      "- `reject(error)`: call this when there is an error."
     ]
    },
    {
     "cell_type": "heading",
     "level": 2,
     "metadata": {},
     "source": [
      "A Realistic Example"
     ]
    },
    {
     "cell_type": "markdown",
     "metadata": {},
     "source": [
      "Most node.js APIs use the callback pattern to enable code to resume with async results or errors. In the promises world, your callbacks invoke the `resolve` and `reject` methods."
     ]
    },
    {
     "cell_type": "code",
     "collapsed": false,
     "input": [
      "var http = require('http');\n",
      "\n",
      "_.async(function(deferred) {\n",
      "  _.request('http://www.example.org', function(err, response) {\n",
      "    if (err || (response.statusCode != 200)) {\n",
      "      deferred.reject(err || new Error('Failed request'));\n",
      "    }\n",
      "\n",
      "    deferred.resolve('Successful request; status = ' + response.statusCode);\n",
      "  })\n",
      "});"
     ],
     "language": "javascript",
     "metadata": {},
     "outputs": [
      {
       "metadata": {},
       "output_type": "display_data",
       "text": [
        "Successful request; status = 200"
       ]
      }
     ],
     "prompt_number": 2
    },
    {
     "cell_type": "code",
     "collapsed": false,
     "input": [],
     "language": "javascript",
     "metadata": {},
     "outputs": []
    }
   ],
   "metadata": {}
  }
 ]
}