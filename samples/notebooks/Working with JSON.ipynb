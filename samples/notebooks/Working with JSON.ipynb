{
 "metadata": {
  "name": "",
  "signature": "sha256:5a7831c56900655f68bdd8f99d95120c49bd3cc651613c0b56c07c4f859781a2"
 },
 "nbformat": 3,
 "nbformat_minor": 0,
 "worksheets": [
  {
   "cells": [
    {
     "cell_type": "code",
     "collapsed": false,
     "input": [
      "%%json --name data\n",
      "{\n",
      "  \"text\": \"foo bar\",\n",
      "  \"number\": 123,\n",
      "  \"flag\": true\n",
      "}"
     ],
     "language": "javascript",
     "metadata": {},
     "outputs": [],
     "prompt_number": 1
    },
    {
     "cell_type": "code",
     "collapsed": false,
     "input": [
      "data.flag"
     ],
     "language": "javascript",
     "metadata": {},
     "outputs": [
      {
       "metadata": {},
       "output_type": "display_data",
       "text": [
        "true"
       ]
      }
     ],
     "prompt_number": 2
    },
    {
     "cell_type": "code",
     "collapsed": false,
     "input": [
      "data."
     ],
     "language": "javascript",
     "metadata": {},
     "outputs": []
    }
   ],
   "metadata": {}
  }
 ]
}