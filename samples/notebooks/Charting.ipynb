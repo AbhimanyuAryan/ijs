{
 "metadata": {
  "name": "",
  "signature": "sha256:78f339cff469d33f761242f624ce232bde0c2312cff516792c23e5e45b058eb1"
 },
 "nbformat": 3,
 "nbformat_minor": 0,
 "worksheets": [
  {
   "cells": [
    {
     "cell_type": "heading",
     "level": 1,
     "metadata": {},
     "source": [
      "Charting"
     ]
    },
    {
     "cell_type": "markdown",
     "metadata": {},
     "source": [
      "A basic notebook demonstrating use of the charting extension to create charts."
     ]
    },
    {
     "cell_type": "heading",
     "level": 2,
     "metadata": {},
     "source": [
      "Charting Extension"
     ]
    },
    {
     "cell_type": "code",
     "collapsed": false,
     "input": [
      "%extension charting"
     ],
     "language": "javascript",
     "metadata": {},
     "outputs": [
      {
       "javascript": [
        "require.config({ paths: { \"gchart\": \"https://rawgit.com/interactivecomputing/ijs.ext.charting/master/dist/gchart\" } });"
       ],
       "metadata": {},
       "output_type": "display_data"
      }
     ],
     "prompt_number": 1
    },
    {
     "cell_type": "markdown",
     "metadata": {},
     "source": [
      "This just loaded the node module named `ijs.ext.charting` from npm, and then loaded the module into the notebook. As a result, the %chart command is now available. The charting extension allows creating interactive charts using the Google Charting API."
     ]
    },
    {
     "cell_type": "heading",
     "level": 2,
     "metadata": {},
     "source": [
      "Chart Data"
     ]
    },
    {
     "cell_type": "markdown",
     "metadata": {},
     "source": [
      "Lets first define some data to use to chart."
     ]
    },
    {
     "cell_type": "code",
     "collapsed": false,
     "input": [
      "%%json --name items\n",
      "[\n",
      "  { \"x\": 1, \"y\": 100 },\n",
      "  { \"x\": 2, \"y\": 50 },\n",
      "  { \"x\": 3, \"y\": 200 },\n",
      "  { \"x\": 4, \"y\": 75 },\n",
      "  { \"x\": 5, \"y\": 57 },\n",
      "  { \"x\": 6, \"y\": 120 }\n",
      "]"
     ],
     "language": "javascript",
     "metadata": {},
     "outputs": [],
     "prompt_number": 2
    },
    {
     "cell_type": "heading",
     "level": 2,
     "metadata": {},
     "source": [
      "Table Chart"
     ]
    },
    {
     "cell_type": "code",
     "collapsed": false,
     "input": [
      "%%chart --type table --data items\n",
      "{\n",
      "  \"showRowNumber\": true\n",
      "}"
     ],
     "language": "javascript",
     "metadata": {},
     "outputs": [
      {
       "html": [
        "<div id=\"_1430460928720\" class=\"\"></div><script>require([\"gchart\",\"elem!_1430460928720\"], function(gchart,elem) {\n",
        "gchart.render(elem, {\"type\":\"table\",\"options\":{\"showRowNumber\":true}}, {\"cols\":[{\"id\":\"x\",\"label\":\"x\",\"type\":\"number\"},{\"id\":\"y\",\"label\":\"y\",\"type\":\"number\"}],\"rows\":[{\"c\":[{\"v\":1},{\"v\":100}]},{\"c\":[{\"v\":2},{\"v\":50}]},{\"c\":[{\"v\":3},{\"v\":200}]},{\"c\":[{\"v\":4},{\"v\":75}]},{\"c\":[{\"v\":5},{\"v\":57}]},{\"c\":[{\"v\":6},{\"v\":120}]}]});\n",
        "});</script>"
       ],
       "metadata": {},
       "output_type": "display_data"
      }
     ],
     "prompt_number": 3
    },
    {
     "cell_type": "heading",
     "level": 2,
     "metadata": {},
     "source": [
      "Scatter Chart"
     ]
    },
    {
     "cell_type": "code",
     "collapsed": false,
     "input": [
      "%%chart --type scatter --data items"
     ],
     "language": "javascript",
     "metadata": {},
     "outputs": [
      {
       "html": [
        "<div id=\"_1430460947916\" class=\"\"></div><script>require([\"gchart\",\"elem!_1430460947916\"], function(gchart,elem) {\n",
        "gchart.render(elem, {\"type\":\"scatter\",\"options\":{}}, {\"cols\":[{\"id\":\"x\",\"label\":\"x\",\"type\":\"number\"},{\"id\":\"y\",\"label\":\"y\",\"type\":\"number\"}],\"rows\":[{\"c\":[{\"v\":1},{\"v\":100}]},{\"c\":[{\"v\":2},{\"v\":50}]},{\"c\":[{\"v\":3},{\"v\":200}]},{\"c\":[{\"v\":4},{\"v\":75}]},{\"c\":[{\"v\":5},{\"v\":57}]},{\"c\":[{\"v\":6},{\"v\":120}]}]});\n",
        "});</script>"
       ],
       "metadata": {},
       "output_type": "display_data"
      }
     ],
     "prompt_number": 4
    },
    {
     "cell_type": "code",
     "collapsed": false,
     "input": [],
     "language": "javascript",
     "metadata": {},
     "outputs": []
    }
   ],
   "metadata": {}
  }
 ]
}