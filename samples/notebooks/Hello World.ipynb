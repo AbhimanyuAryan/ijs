{
 "metadata": {
  "name": "",
  "signature": "sha256:632475789a690560a038095fc033b35cd6727ea64a513981dae3afdfa8f96725"
 },
 "nbformat": 3,
 "nbformat_minor": 0,
 "worksheets": [
  {
   "cells": [
    {
     "cell_type": "heading",
     "level": 1,
     "metadata": {},
     "source": [
      "Hello World"
     ]
    },
    {
     "cell_type": "markdown",
     "metadata": {},
     "source": [
      "A hello-world style introduction to Interactive JavaScript in a Notebook, along with using node.js, and node modules."
     ]
    },
    {
     "cell_type": "code",
     "collapsed": false,
     "input": [
      "var util = require('util')\n",
      "var greeting = util.format('Hello %s!', 'Nikhil Kothari');\n",
      "\n",
      "console.log(greeting);"
     ],
     "language": "javascript",
     "metadata": {},
     "outputs": [
      {
       "output_type": "stream",
       "stream": "stdout",
       "text": [
        "Hello Nikhil Kothari!\n"
       ]
      }
     ],
     "prompt_number": 1
    },
    {
     "cell_type": "heading",
     "level": 2,
     "metadata": {},
     "source": [
      "Using Node modules"
     ]
    },
    {
     "cell_type": "markdown",
     "metadata": {},
     "source": [
      "Node.js modules can be installed via the `%module` command. Modules are installed using `npm` along with their dependencies, so that they can subsequently loaded using `require()`."
     ]
    },
    {
     "cell_type": "code",
     "collapsed": false,
     "input": [
      "%module qr-image"
     ],
     "language": "javascript",
     "metadata": {},
     "outputs": [
      {
       "output_type": "stream",
       "stream": "stdout",
       "text": [
        "qr-image@3.1.0 ../node_modules/qr-image\n",
        "`-- pako@0.2.6\n"
       ]
      }
     ],
     "prompt_number": 2
    },
    {
     "cell_type": "code",
     "collapsed": false,
     "input": [
      "var qr = require('qr-image');\n",
      "\n",
      "function qrCode(text) {\n",
      "  var buffer = qr.imageSync(text, { type: 'png' });\n",
      "  return _.data.image(buffer);\n",
      "}\n",
      "\n",
      "qrCode(greeting);"
     ],
     "language": "javascript",
     "metadata": {},
     "outputs": [
      {
       "metadata": {},
       "output_type": "display_data",
       "png": "[encoded data removed]"
      }
     ],
     "prompt_number": 3
    },
    {
     "cell_type": "heading",
     "level": 2,
     "metadata": {},
     "source": [
      "Using Async APIs"
     ]
    },
    {
     "cell_type": "markdown",
     "metadata": {},
     "source": [
      "Within a notebook, the expectation is that a cell completes execution before the next cell begins to execute. As a result, some special treatment is required to indicate when async APIs, which are quite prevalent in node.js, have completed.\n",
      "\n",
      "Async APIs in node.js take an async completion callback. The callback pattern can be converted to a promise, and have the resulting promise be treated as the result of the cell execution, that the notebook waits on to know when the cell has completed execution.\n",
      "\n",
      "Creating and returning a promise is simplified in notebooks via the helper `_.async()` method as shown below. This helper method accepts a function that is passed in a deferred result. This deferred result can be resolved or rejected when the async work completes successfully or with a failure."
     ]
    },
    {
     "cell_type": "code",
     "collapsed": false,
     "input": [
      "_.async(function(deferred) {\n",
      "  var buffers = [];\n",
      "  qr.image(greeting)\n",
      "    .on('end', function() {\n",
      "      var buffer = Buffer.concat(buffers);\n",
      "      deferred.resolve(_.data.image(buffer));\n",
      "    })\n",
      "    .on('data', function(chunk) {\n",
      "      buffers.push(chunk);\n",
      "    });\n",
      "});"
     ],
     "language": "javascript",
     "metadata": {},
     "outputs": [
      {
       "metadata": {},
       "output_type": "display_data",
       "png": "[encoded data removed]"
      }
     ],
     "prompt_number": 4
    }
   ],
   "metadata": {}
  }
 ]
}