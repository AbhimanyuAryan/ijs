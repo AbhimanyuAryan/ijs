{
 "metadata": {
  "name": "",
  "signature": "sha256:fb66439e7fb5431ba35d2a4b503413126c3d95ff574eabb7241b8bbd85980f07"
 },
 "nbformat": 3,
 "nbformat_minor": 0,
 "worksheets": [
  {
   "cells": [
    {
     "cell_type": "markdown",
     "metadata": {},
     "source": [
      "#ijs Hello World\n",
      "Interactive JavaScript, node.js, and node modules in action..."
     ]
    },
    {
     "cell_type": "code",
     "collapsed": false,
     "input": [
      "var util = require('util')\n",
      "var greeting = util.format('Hello %s!', 'Nikhil Kothari');\n",
      "\n",
      "console.log(greeting);"
     ],
     "language": "javascript",
     "metadata": {},
     "outputs": [
      {
       "output_type": "stream",
       "stream": "stdout",
       "text": [
        "Hello Nikhil Kothari!\n"
       ]
      }
     ],
     "prompt_number": 1
    },
    {
     "cell_type": "code",
     "collapsed": false,
     "input": [
      "%module qr-image"
     ],
     "language": "javascript",
     "metadata": {},
     "outputs": [
      {
       "output_type": "stream",
       "stream": "stdout",
       "text": [
        "qr-image@3.1.0 ../../../tmp/lib/node_modules/qr-image\n",
        "`-- pako@0.2.5\n"
       ]
      }
     ],
     "prompt_number": 2
    },
    {
     "cell_type": "code",
     "collapsed": false,
     "input": [
      "var qr = require('qr-image');\n",
      "\n",
      "function qrCode(text) {\n",
      "  var buffer = qr.imageSync(text, { type: 'png' });\n",
      "  return _.data.image(buffer);\n",
      "}\n",
      "\n",
      "qrCode(greeting);"
     ],
     "language": "javascript",
     "metadata": {},
     "outputs": [
      {
       "metadata": {},
       "output_type": "display_data",
       "png": "[encoded data removed]"
      }
     ],
     "prompt_number": 3
    }
   ],
   "metadata": {}
  }
 ]
}