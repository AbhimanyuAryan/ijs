{
 "metadata": {
  "name": "",
  "signature": "sha256:114905d039c13b208bb1262cc390b404b6c906a60fe58d1d8ca71e6eb7fdd889"
 },
 "nbformat": 3,
 "nbformat_minor": 0,
 "worksheets": [
  {
   "cells": [
    {
     "cell_type": "heading",
     "level": 1,
     "metadata": {},
     "source": [
      "Client Script + D3.js"
     ]
    },
    {
     "cell_type": "code",
     "collapsed": false,
     "input": [
      "%%html\n",
      "<svg id=\"surface\" style=\"width: 100%; height: 100px\"></svg>"
     ],
     "language": "javascript",
     "metadata": {},
     "outputs": [
      {
       "html": [
        "<svg id=\"surface\" style=\"width: 100%; height: 100px\"></svg>"
       ],
       "metadata": {},
       "output_type": "display_data"
      }
     ],
     "prompt_number": 1
    },
    {
     "cell_type": "code",
     "collapsed": false,
     "input": [
      "%%script\n",
      "require(['d3'], function(d3) {\n",
      "  d3.select(\"#surface\")\n",
      "    .append(\"circle\")\n",
      "    .style(\"stroke\", \"black\")\n",
      "    .style(\"fill\", \"white\")\n",
      "    .attr(\"r\", 40)\n",
      "    .attr(\"cx\", 50)\n",
      "    .attr(\"cy\", 50)\n",
      "});"
     ],
     "language": "javascript",
     "metadata": {},
     "outputs": [
      {
       "javascript": [
        "require(['d3'], function(d3) {\n",
        "  d3.select(\"#surface\")\n",
        "    .append(\"circle\")\n",
        "    .style(\"stroke\", \"black\")\n",
        "    .style(\"fill\", \"white\")\n",
        "    .attr(\"r\", 40)\n",
        "    .attr(\"cx\", 50)\n",
        "    .attr(\"cy\", 50)\n",
        "});"
       ],
       "metadata": {},
       "output_type": "display_data"
      }
     ],
     "prompt_number": 2
    }
   ],
   "metadata": {}
  }
 ]
}