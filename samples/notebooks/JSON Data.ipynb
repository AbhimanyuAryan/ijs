{
 "metadata": {
  "name": "",
  "signature": "sha256:b807145623c07b8b929b144317a63eb582c89e5c89f5b825d5ff1a3f7dc71212"
 },
 "nbformat": 3,
 "nbformat_minor": 0,
 "worksheets": [
  {
   "cells": [
    {
     "cell_type": "heading",
     "level": 1,
     "metadata": {},
     "source": [
      "Working with JSON Data"
     ]
    },
    {
     "cell_type": "markdown",
     "metadata": {},
     "source": [
      "JSON data can be declared, parsed, and assigned to a variable using the "
     ]
    },
    {
     "cell_type": "code",
     "collapsed": false,
     "input": [
      "%%json --name data\n",
      "{\n",
      "  \"text\": \"foo bar\",\n",
      "  \"number\": 123,\n",
      "  \"flag\": true,\n",
      "  \"items\": [\n",
      "    { \"t\": 100, \"value\": 3 },\n",
      "    { \"t\": 100, \"value\": 4 }\n",
      "  ]\n",
      "}"
     ],
     "language": "javascript",
     "metadata": {},
     "outputs": [],
     "prompt_number": 1
    },
    {
     "cell_type": "code",
     "collapsed": false,
     "input": [
      "data.flag"
     ],
     "language": "javascript",
     "metadata": {},
     "outputs": [
      {
       "metadata": {},
       "output_type": "display_data",
       "text": [
        "true"
       ]
      }
     ],
     "prompt_number": 2
    },
    {
     "cell_type": "code",
     "collapsed": false,
     "input": [
      "data.items[1].value"
     ],
     "language": "javascript",
     "metadata": {},
     "outputs": [
      {
       "metadata": {},
       "output_type": "display_data",
       "text": [
        "4"
       ]
      }
     ],
     "prompt_number": 3
    },
    {
     "cell_type": "code",
     "collapsed": false,
     "input": [],
     "language": "javascript",
     "metadata": {},
     "outputs": []
    }
   ],
   "metadata": {}
  }
 ]
}