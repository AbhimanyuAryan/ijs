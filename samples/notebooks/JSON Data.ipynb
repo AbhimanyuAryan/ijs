{
 "metadata": {
  "name": "",
  "signature": "sha256:92905052dfcb55ca99b8fd0e99725c0b9b022221186d8198a739483919b85f68"
 },
 "nbformat": 3,
 "nbformat_minor": 0,
 "worksheets": [
  {
   "cells": [
    {
     "cell_type": "heading",
     "level": 1,
     "metadata": {},
     "source": [
      "Working with JSON Data"
     ]
    },
    {
     "cell_type": "markdown",
     "metadata": {},
     "source": [
      "JSON data can be declared, parsed, and assigned to a variable using the "
     ]
    },
    {
     "cell_type": "code",
     "collapsed": false,
     "input": [
      "%%json --name data\n",
      "{\n",
      "  \"text\": \"foo bar\",\n",
      "  \"number\": 123,\n",
      "  \"flag\": true,\n",
      "  \"items\": [\n",
      "    { \"t\": 100, \"value\": 3 },\n",
      "    { \"t\": 100, \"value\": 4 }\n",
      "  ]\n",
      "}"
     ],
     "language": "javascript",
     "metadata": {},
     "outputs": [],
     "prompt_number": 1
    },
    {
     "cell_type": "code",
     "collapsed": false,
     "input": [
      "data.flag"
     ],
     "language": "javascript",
     "metadata": {},
     "outputs": [
      {
       "metadata": {},
       "output_type": "display_data",
       "text": [
        "true"
       ]
      }
     ],
     "prompt_number": 2
    },
    {
     "cell_type": "code",
     "collapsed": false,
     "input": [
      "data.items"
     ],
     "language": "javascript",
     "metadata": {},
     "outputs": [
      {
       "json": [
        "[{\"t\":100,\"value\":3},{\"t\":100,\"value\":4}]"
       ],
       "metadata": {},
       "output_type": "display_data"
      }
     ],
     "prompt_number": 3
    },
    {
     "cell_type": "code",
     "collapsed": false,
     "input": [],
     "language": "javascript",
     "metadata": {},
     "outputs": []
    }
   ],
   "metadata": {}
  }
 ]
}