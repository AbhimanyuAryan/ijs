{
 "metadata": {
  "name": "",
  "signature": "sha256:f81a583149641bc02c6887bad8486aecae648628e18880a294496e796c046e15"
 },
 "nbformat": 3,
 "nbformat_minor": 0,
 "worksheets": [
  {
   "cells": [
    {
     "cell_type": "heading",
     "level": 1,
     "metadata": {},
     "source": [
      "HTTP Extension - HTTP Server"
     ]
    },
    {
     "cell_type": "markdown",
     "metadata": {},
     "source": [
      "This notebook demonstrates the HTTP extension which introduces the `%server`, `%server.static` and `%server.route` commands to implement a HTTP server and handle API requests."
     ]
    },
    {
     "cell_type": "code",
     "collapsed": false,
     "input": [
      "%extension http"
     ],
     "language": "javascript",
     "metadata": {},
     "outputs": [],
     "prompt_number": 1
    },
    {
     "cell_type": "heading",
     "level": 2,
     "metadata": {},
     "source": [
      "Starting the HTTP Server"
     ]
    },
    {
     "cell_type": "markdown",
     "metadata": {},
     "source": [
      "The `%server` command can be used to start a server on a specified port, and it can also be used to stop it. The server is accessible via any process on the local machine."
     ]
    },
    {
     "cell_type": "code",
     "collapsed": false,
     "input": [
      "%server start -p 8081"
     ],
     "language": "javascript",
     "metadata": {},
     "outputs": [],
     "prompt_number": 2
    },
    {
     "cell_type": "heading",
     "level": 2,
     "metadata": {},
     "source": [
      "Static Content"
     ]
    },
    {
     "cell_type": "markdown",
     "metadata": {},
     "source": [
      "Static content can be declared inline within the cell. The name serves as the key for the content, and can be used to update it subsequently. It is also used in creating the URL that serves the content."
     ]
    },
    {
     "cell_type": "code",
     "collapsed": false,
     "input": [
      "%%server.static add --name foo --mime text/plain\n",
      "Hello World!"
     ],
     "language": "javascript",
     "metadata": {},
     "outputs": [
      {
       "html": [
        "<a href=\"http://localhost:8081/static/foo\" target=\"_blank\">foo</a>"
       ],
       "metadata": {},
       "output_type": "display_data"
      }
     ],
     "prompt_number": 3
    },
    {
     "cell_type": "markdown",
     "metadata": {},
     "source": [
      "Static content can also be associated with the current value of a variable previously defined in the notebook. For example, the next cell defines a variable named `jsondata` to the result of parsing a JSON literal, and the subsequent cell exposes it as static content with the name `json`"
     ]
    },
    {
     "cell_type": "code",
     "collapsed": false,
     "input": [
      "%%json --name=jsondata\n",
      "{\n",
      "  \"abc\": 123\n",
      "}"
     ],
     "language": "javascript",
     "metadata": {},
     "outputs": [],
     "prompt_number": 4
    },
    {
     "cell_type": "code",
     "collapsed": false,
     "input": [
      "%server.static add --name json --mime application/json --data jsondata"
     ],
     "language": "javascript",
     "metadata": {},
     "outputs": [
      {
       "html": [
        "<a href=\"http://localhost:8081/static/json\" target=\"_blank\">json</a>"
       ],
       "metadata": {},
       "output_type": "display_data"
      }
     ],
     "prompt_number": 5
    },
    {
     "cell_type": "heading",
     "level": 2,
     "metadata": {},
     "source": [
      "Routes and Dynamic Content"
     ]
    },
    {
     "cell_type": "markdown",
     "metadata": {},
     "source": [
      "You can declare request handlers as functions and then expose them as route handlers. The next cell defines a function named `helloHandler` that is then exposed as the `/hello` endpoint (by default for the GET HTTP method).\n",
      "\n",
      "The following cell uses the `%request` command also provided by the HTTP extension to invoke that endpoint. While the example shows the notebook invoking the endpoint also published by the notebook, in reality some other client application could be the one invoking the endpoint."
     ]
    },
    {
     "cell_type": "code",
     "collapsed": false,
     "input": [
      "function helloHandler(req, res) {\n",
      "  res.send('Hello World!');\n",
      "  res.end();\n",
      "}"
     ],
     "language": "javascript",
     "metadata": {},
     "outputs": [],
     "prompt_number": 6
    },
    {
     "cell_type": "code",
     "collapsed": false,
     "input": [
      "%%server.route add /hello --handler helloHandler"
     ],
     "language": "javascript",
     "metadata": {},
     "outputs": [],
     "prompt_number": 7
    },
    {
     "cell_type": "code",
     "collapsed": false,
     "input": [
      "%%request\n",
      "GET http://localhost:8081/hello"
     ],
     "language": "javascript",
     "metadata": {},
     "outputs": [
      {
       "output_type": "stream",
       "stream": "stdout",
       "text": [
        "HTTP 200 \n"
       ]
      },
      {
       "output_type": "stream",
       "stream": "stdout",
       "text": [
        "\n"
       ]
      },
      {
       "output_type": "stream",
       "stream": "stdout",
       "text": [
        "x-powered-by: Express\n"
       ]
      },
      {
       "output_type": "stream",
       "stream": "stdout",
       "text": [
        "content-type: text/html; charset=utf-8\n"
       ]
      },
      {
       "output_type": "stream",
       "stream": "stdout",
       "text": [
        "content-length: 12\n"
       ]
      },
      {
       "output_type": "stream",
       "stream": "stdout",
       "text": [
        "etag: W/\"c-1c291ca3\"\n"
       ]
      },
      {
       "output_type": "stream",
       "stream": "stdout",
       "text": [
        "date: Thu, 28 May 2015 00:33:25 GMT\n"
       ]
      },
      {
       "output_type": "stream",
       "stream": "stdout",
       "text": [
        "connection: keep-alive\n"
       ]
      },
      {
       "output_type": "stream",
       "stream": "stdout",
       "text": [
        "\n"
       ]
      },
      {
       "metadata": {},
       "output_type": "display_data",
       "text": [
        "Hello World!"
       ]
      }
     ],
     "prompt_number": 8
    },
    {
     "cell_type": "markdown",
     "metadata": {},
     "source": [
      "You can also write the script defining the request handler inline when declaring the route. In this case, you do not write the signature of the function. The code you write becomes the body of a generated handler, and the request and response objects exist within scope of the function body."
     ]
    },
    {
     "cell_type": "code",
     "collapsed": false,
     "input": [
      "%%server.route add /echo --method POST\n",
      "response.json(request.body);\n",
      "response.end();"
     ],
     "language": "javascript",
     "metadata": {},
     "outputs": [],
     "prompt_number": 9
    },
    {
     "cell_type": "code",
     "collapsed": false,
     "input": [
      "%%request\n",
      "POST http://localhost:8081/echo\n",
      "Content-Type: application/json\n",
      "\n",
      "{\n",
      "  \"xyz\": \"xyz\"\n",
      "}"
     ],
     "language": "javascript",
     "metadata": {},
     "outputs": [
      {
       "output_type": "stream",
       "stream": "stdout",
       "text": [
        "HTTP 200 \n"
       ]
      },
      {
       "output_type": "stream",
       "stream": "stdout",
       "text": [
        "\n"
       ]
      },
      {
       "output_type": "stream",
       "stream": "stdout",
       "text": [
        "x-powered-by: Express\n"
       ]
      },
      {
       "output_type": "stream",
       "stream": "stdout",
       "text": [
        "content-type: application/json; charset=utf-8\n"
       ]
      },
      {
       "output_type": "stream",
       "stream": "stdout",
       "text": [
        "content-length: 13\n"
       ]
      },
      {
       "output_type": "stream",
       "stream": "stdout",
       "text": [
        "etag: W/\"d-7fa24d58\"\n"
       ]
      },
      {
       "output_type": "stream",
       "stream": "stdout",
       "text": [
        "date: Thu, 28 May 2015 00:33:27 GMT\n"
       ]
      },
      {
       "output_type": "stream",
       "stream": "stdout",
       "text": [
        "connection: keep-alive\n"
       ]
      },
      {
       "output_type": "stream",
       "stream": "stdout",
       "text": [
        "\n"
       ]
      },
      {
       "json": [
        "{\"xyz\":\"xyz\"}"
       ],
       "metadata": {},
       "output_type": "display_data"
      }
     ],
     "prompt_number": 10
    },
    {
     "cell_type": "markdown",
     "metadata": {},
     "source": [
      "Routes are dynamic. You can remove existing routes, or replace the implementation of an existing route."
     ]
    },
    {
     "cell_type": "code",
     "collapsed": false,
     "input": [
      "%%server.route remove /echo"
     ],
     "language": "javascript",
     "metadata": {},
     "outputs": [],
     "prompt_number": 11
    },
    {
     "cell_type": "code",
     "collapsed": false,
     "input": [
      "%%request\n",
      "POST http://localhost:8081/xyz"
     ],
     "language": "javascript",
     "metadata": {},
     "outputs": [
      {
       "output_type": "stream",
       "stream": "stderr",
       "text": [
        "HTTP 404 \n"
       ]
      },
      {
       "output_type": "stream",
       "stream": "stdout",
       "text": [
        "\n"
       ]
      },
      {
       "output_type": "stream",
       "stream": "stdout",
       "text": [
        "x-powered-by: Express\n"
       ]
      },
      {
       "output_type": "stream",
       "stream": "stdout",
       "text": [
        "x-content-type-options: nosniff\n"
       ]
      },
      {
       "output_type": "stream",
       "stream": "stdout",
       "text": [
        "content-type: text/html; charset=utf-8\n"
       ]
      },
      {
       "output_type": "stream",
       "stream": "stdout",
       "text": [
        "content-length: 17\n"
       ]
      },
      {
       "output_type": "stream",
       "stream": "stdout",
       "text": [
        "date: Thu, 28 May 2015 00:33:29 GMT\n"
       ]
      },
      {
       "output_type": "stream",
       "stream": "stdout",
       "text": [
        "connection: keep-alive\n"
       ]
      },
      {
       "output_type": "stream",
       "stream": "stdout",
       "text": [
        "\n"
       ]
      }
     ],
     "prompt_number": 12
    },
    {
     "cell_type": "heading",
     "level": 2,
     "metadata": {},
     "source": [
      "Stopping the Server"
     ]
    },
    {
     "cell_type": "code",
     "collapsed": false,
     "input": [
      "%server stop"
     ],
     "language": "javascript",
     "metadata": {},
     "outputs": [],
     "prompt_number": 13
    },
    {
     "cell_type": "code",
     "collapsed": false,
     "input": [],
     "language": "javascript",
     "metadata": {},
     "outputs": []
    }
   ],
   "metadata": {}
  }
 ]
}