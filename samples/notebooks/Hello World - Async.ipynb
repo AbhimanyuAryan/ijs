{
 "metadata": {
  "name": "",
  "signature": "sha256:4f7a11702dab0d90170ae4724b9045fdcf0e694e83e211c730bdf15fb4361533"
 },
 "nbformat": 3,
 "nbformat_minor": 0,
 "worksheets": [
  {
   "cells": [
    {
     "cell_type": "markdown",
     "metadata": {},
     "source": [
      "#ijs Hello World - Async Edition!"
     ]
    },
    {
     "cell_type": "code",
     "collapsed": false,
     "input": [
      "var util = require('util')\n",
      "var greeting = util.format('Hello %s!', 'Nikhil Kothari');\n",
      "\n",
      "console.log(greeting);"
     ],
     "language": "javascript",
     "metadata": {},
     "outputs": [
      {
       "output_type": "stream",
       "stream": "stdout",
       "text": [
        "Hello Nikhil Kothari!\n"
       ]
      }
     ],
     "prompt_number": 1
    },
    {
     "cell_type": "code",
     "collapsed": false,
     "input": [
      "%module qr-image"
     ],
     "language": "javascript",
     "metadata": {},
     "outputs": [
      {
       "output_type": "stream",
       "stream": "stdout",
       "text": [
        "qr-image@3.1.0 ../../../tmp/lib/node_modules/qr-image\n",
        "`-- pako@0.2.5\n"
       ]
      }
     ],
     "prompt_number": 2
    },
    {
     "cell_type": "code",
     "collapsed": false,
     "input": [
      "var qr = require('qr-image');\n",
      "\n",
      "_.async(function(deferred) {\n",
      "  var buffers = [];\n",
      "  qr.image(greeting)\n",
      "    .on('end', function() {\n",
      "      var buffer = Buffer.concat(buffers);\n",
      "      deferred.resolve(_.data.image(buffer));\n",
      "    })\n",
      "    .on('data', function(chunk) {\n",
      "      buffers.push(chunk);\n",
      "    });\n",
      "});"
     ],
     "language": "javascript",
     "metadata": {},
     "outputs": [
      {
       "metadata": {},
       "output_type": "display_data",
       "png": "[encoded data removed]"
      }
     ],
     "prompt_number": 3
    },
    {
     "cell_type": "code",
     "collapsed": false,
     "input": [],
     "language": "javascript",
     "metadata": {},
     "outputs": []
    }
   ],
   "metadata": {}
  }
 ]
}