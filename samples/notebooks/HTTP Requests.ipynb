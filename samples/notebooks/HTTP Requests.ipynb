{
 "metadata": {
  "name": "",
  "signature": "sha256:11c6fc59d9ab05e595e7c4d7c34d3aba7a8b1174eb6cb85446c9bee32a84e5e4"
 },
 "nbformat": 3,
 "nbformat_minor": 0,
 "worksheets": [
  {
   "cells": [
    {
     "cell_type": "heading",
     "level": 1,
     "metadata": {},
     "source": [
      "HTTP Requests"
     ]
    },
    {
     "cell_type": "markdown",
     "metadata": {},
     "source": [
      "HTTP requests can be issued via the built-in `http` and `https` modules, as well as higher-level wrapper modules such as the popular `requests` module. The latter is supported out-of-the-box as a helper in the form of `_.requests` within a notebook.\n",
      "\n",
      "Note that HTTP requests complete asynchronously, and the `_.async` helper is used to convert callback-style async patterns into promises that the notebook can wait on to know when the cell has completed execution."
     ]
    },
    {
     "cell_type": "code",
     "collapsed": false,
     "input": [
      "_.async(function(deferred) {\n",
      "  _.request('http://www.example.org', function(err, response) {\n",
      "    console.log('Status Code: %d', response.statusCode);\n",
      "    console.log('Page Title: %s',\n",
      "                response.body.match(/\\<title\\>([^\\<]*)\\<\\/title\\>/)[1]);\n",
      "\n",
      "    deferred.resolve();\n",
      "  })\n",
      "});"
     ],
     "language": "javascript",
     "metadata": {},
     "outputs": [
      {
       "output_type": "stream",
       "stream": "stdout",
       "text": [
        "Status Code: 200\n"
       ]
      },
      {
       "output_type": "stream",
       "stream": "stdout",
       "text": [
        "Page Title: Example Domain\n"
       ]
      }
     ],
     "prompt_number": 1
    }
   ],
   "metadata": {}
  }
 ]
}