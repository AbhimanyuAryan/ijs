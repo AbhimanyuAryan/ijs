{
 "metadata": {
  "name": "",
  "signature": "sha256:d940b0320a1946bd9f551d971da781a5b786661c21e880db7a89ef19ad73454c"
 },
 "nbformat": 3,
 "nbformat_minor": 0,
 "worksheets": [
  {
   "cells": [
    {
     "cell_type": "markdown",
     "metadata": {},
     "source": [
      "# HTTP with the 'requests' module"
     ]
    },
    {
     "cell_type": "code",
     "collapsed": false,
     "input": [
      "_.async(function(deferred) {\n",
      "  _.request('http://www.example.org', function(err, response) {\n",
      "    console.log('Status Code: %d', response.statusCode);\n",
      "    console.log('Page Title: %s',\n",
      "                response.body.match(/\\<title\\>([^\\<]*)\\<\\/title\\>/)[1]);\n",
      "\n",
      "    deferred.resolve();\n",
      "  })\n",
      "});"
     ],
     "language": "javascript",
     "metadata": {},
     "outputs": [
      {
       "output_type": "stream",
       "stream": "stdout",
       "text": [
        "Status Code: 200\n"
       ]
      },
      {
       "output_type": "stream",
       "stream": "stdout",
       "text": [
        "Page Title: Example Domain\n"
       ]
      }
     ],
     "prompt_number": 1
    }
   ],
   "metadata": {}
  }
 ]
}